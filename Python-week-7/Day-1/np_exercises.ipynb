{
 "cells": [
  {
   "cell_type": "code",
   "execution_count": 1,
   "id": "b85fa3ed",
   "metadata": {},
   "outputs": [],
   "source": [
    "import numpy as np"
   ]
  },
  {
   "cell_type": "markdown",
   "id": "37020904",
   "metadata": {},
   "source": [
    "    # 23"
   ]
  },
  {
   "cell_type": "code",
   "execution_count": 10,
   "id": "b6b25e72",
   "metadata": {},
   "outputs": [],
   "source": [
    "array = np.random.randint(0, 10, size=(2,4)).astype(np.int16)"
   ]
  },
  {
   "cell_type": "code",
   "execution_count": 11,
   "id": "14f404dd",
   "metadata": {},
   "outputs": [
    {
     "data": {
      "text/plain": [
       "array([[1, 7, 4, 6],\n",
       "       [3, 0, 4, 6]], dtype=int16)"
      ]
     },
     "execution_count": 11,
     "metadata": {},
     "output_type": "execute_result"
    }
   ],
   "source": [
    "array"
   ]
  },
  {
   "cell_type": "code",
   "execution_count": 12,
   "id": "a7f9fb98",
   "metadata": {},
   "outputs": [
    {
     "data": {
      "text/plain": [
       "numpy.ndarray"
      ]
     },
     "execution_count": 12,
     "metadata": {},
     "output_type": "execute_result"
    }
   ],
   "source": [
    "type(array)"
   ]
  },
  {
   "cell_type": "code",
   "execution_count": 13,
   "id": "8ce981e0",
   "metadata": {},
   "outputs": [
    {
     "data": {
      "text/plain": [
       "dtype('int16')"
      ]
     },
     "execution_count": 13,
     "metadata": {},
     "output_type": "execute_result"
    }
   ],
   "source": [
    "array.dtype"
   ]
  },
  {
   "cell_type": "markdown",
   "id": "84aef345",
   "metadata": {},
   "source": [
    "    # 9 Create a 3x3 matrix with values ranging from 0 to 8 (★☆☆) hint: reshape"
   ]
  },
  {
   "cell_type": "code",
   "execution_count": 15,
   "id": "18b0130d",
   "metadata": {},
   "outputs": [
    {
     "data": {
      "text/plain": [
       "array([[5, 0, 2],\n",
       "       [4, 0, 6],\n",
       "       [0, 6, 4]])"
      ]
     },
     "execution_count": 15,
     "metadata": {},
     "output_type": "execute_result"
    }
   ],
   "source": [
    "np.random.randint(0,9, (3,3))"
   ]
  },
  {
   "cell_type": "code",
   "execution_count": 19,
   "id": "18831eea",
   "metadata": {},
   "outputs": [
    {
     "data": {
      "text/plain": [
       "array([[0, 7, 6],\n",
       "       [8, 5, 1],\n",
       "       [6, 6, 6]])"
      ]
     },
     "execution_count": 19,
     "metadata": {},
     "output_type": "execute_result"
    }
   ],
   "source": [
    "np.random.randint(0,9,9).reshape((3,3))"
   ]
  },
  {
   "cell_type": "markdown",
   "id": "12b58d97",
   "metadata": {},
   "source": [
    "    # 20. Consider a (6,7,8) shape array, what is the index (x,y,z) of the 100th element?\n",
    "hint: https://docs.scipy.org/doc/numpy-1.10.0/reference/generated/numpy.unravel_index.html"
   ]
  },
  {
   "cell_type": "code",
   "execution_count": 21,
   "id": "c74d8ec6",
   "metadata": {},
   "outputs": [],
   "source": [
    "n_array = np.random.randint(0,10,(6,7,8))"
   ]
  },
  {
   "cell_type": "code",
   "execution_count": 29,
   "id": "24d7c80b",
   "metadata": {},
   "outputs": [
    {
     "data": {
      "text/plain": [
       "0"
      ]
     },
     "execution_count": 29,
     "metadata": {},
     "output_type": "execute_result"
    }
   ],
   "source": [
    "n_array.reshape((6*7*8,))[100]"
   ]
  },
  {
   "cell_type": "code",
   "execution_count": 27,
   "id": "6a633528",
   "metadata": {},
   "outputs": [
    {
     "data": {
      "text/plain": [
       "(array([1]), array([5]), array([4]))"
      ]
     },
     "execution_count": 27,
     "metadata": {},
     "output_type": "execute_result"
    }
   ],
   "source": [
    "np.unravel_index([100], (6,7,8))"
   ]
  },
  {
   "cell_type": "code",
   "execution_count": 28,
   "id": "fb8b1748",
   "metadata": {},
   "outputs": [
    {
     "data": {
      "text/plain": [
       "0"
      ]
     },
     "execution_count": 28,
     "metadata": {},
     "output_type": "execute_result"
    }
   ],
   "source": [
    "n_array[1][5][4]"
   ]
  }
 ],
 "metadata": {
  "kernelspec": {
   "display_name": "Python 3.10.5 64-bit",
   "language": "python",
   "name": "python3"
  },
  "language_info": {
   "codemirror_mode": {
    "name": "ipython",
    "version": 3
   },
   "file_extension": ".py",
   "mimetype": "text/x-python",
   "name": "python",
   "nbconvert_exporter": "python",
   "pygments_lexer": "ipython3",
   "version": "3.10.5"
  },
  "vscode": {
   "interpreter": {
    "hash": "aee8b7b246df8f9039afb4144a1f6fd8d2ca17a180786b69acc140d282b71a49"
   }
  }
 },
 "nbformat": 4,
 "nbformat_minor": 5
}
